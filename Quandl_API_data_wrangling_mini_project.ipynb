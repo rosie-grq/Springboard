{
 "cells": [
  {
   "cell_type": "markdown",
   "metadata": {},
   "source": [
    "This exercise will require you to pull some data from the Qunadl API. Qaundl is currently the most widely used aggregator of financial market data."
   ]
  },
  {
   "cell_type": "markdown",
   "metadata": {},
   "source": [
    "As a first step, you will need to register a free account on the http://www.quandl.com website."
   ]
  },
  {
   "cell_type": "markdown",
   "metadata": {},
   "source": [
    "After you register, you will be provided with a unique API key, that you should store:"
   ]
  },
  {
   "cell_type": "code",
   "execution_count": 1,
   "metadata": {},
   "outputs": [],
   "source": [
    "# Store the API key as a string - according to PEP8, constants are always named in all upper case\n",
    "API_KEY = 'MKvjy3NxgncycesaThNJ'"
   ]
  },
  {
   "cell_type": "markdown",
   "metadata": {},
   "source": [
    "Qaundl has a large number of data sources, but, unfortunately, most of them require a Premium subscription. Still, there are also a good number of free datasets."
   ]
  },
  {
   "cell_type": "markdown",
   "metadata": {},
   "source": [
    "For this mini project, we will focus on equities data from the Frankfurt Stock Exhange (FSE), which is available for free. We'll try and analyze the stock prices of a company called Carl Zeiss Meditec, which manufactures tools for eye examinations, as well as medical lasers for laser eye surgery: https://www.zeiss.com/meditec/int/home.html. The company is listed under the stock ticker AFX_X."
   ]
  },
  {
   "cell_type": "markdown",
   "metadata": {},
   "source": [
    "You can find the detailed Quandl API instructions here: https://docs.quandl.com/docs/time-series"
   ]
  },
  {
   "cell_type": "markdown",
   "metadata": {},
   "source": [
    "While there is a dedicated Python package for connecting to the Quandl API, we would prefer that you use the *requests* package, which can be easily downloaded using *pip* or *conda*. You can find the documentation for the package here: http://docs.python-requests.org/en/master/ "
   ]
  },
  {
   "cell_type": "markdown",
   "metadata": {},
   "source": [
    "Finally, apart from the *requests* package, you are encouraged to not use any third party Python packages, such as *pandas*, and instead focus on what's available in the Python Standard Library (the *collections* module might come in handy: https://pymotw.com/3/collections/ ).\n",
    "Also, since you won't have access to DataFrames, you are encouraged to us Python's native data structures - preferably dictionaries, though some questions can also be answered using lists.\n",
    "You can read more on these data structures here: https://docs.python.org/3/tutorial/datastructures.html"
   ]
  },
  {
   "cell_type": "markdown",
   "metadata": {},
   "source": [
    "Keep in mind that the JSON responses you will be getting from the API map almost one-to-one to Python's dictionaries. Unfortunately, they can be very nested, so make sure you read up on indexing dictionaries in the documentation provided above."
   ]
  },
  {
   "cell_type": "code",
   "execution_count": 2,
   "metadata": {},
   "outputs": [],
   "source": [
    "# First, import the relevant modules\n",
    "import requests\n"
   ]
  },
  {
   "cell_type": "code",
   "execution_count": 3,
   "metadata": {},
   "outputs": [
    {
     "name": "stdout",
     "output_type": "stream",
     "text": [
      "<class 'dict'>\n",
      "{'dataset_data': {'limit': None, 'transform': None, 'column_index': None, 'column_names': ['Date', 'Open', 'High', 'Low', 'Close', 'Change', 'Traded Volume', 'Turnover', 'Last Price of the Day', 'Daily Traded Units', 'Daily Turnover'], 'start_date': '2020-01-15', 'end_date': '2020-01-15', 'frequency': 'daily', 'data': [['2020-01-15', 119.5, 120.7, 119.1, 120.0, None, 111393.0, 13370345.0, None, None, None]], 'collapse': None, 'order': None}}\n"
     ]
    }
   ],
   "source": [
    "# Now, call the Quandl API and pull out a small sample of the data (only one day) to get a glimpse\n",
    "# into the JSON structure that will be returned\n",
    "params=dict(start_date='2020-01-15',end_date='2020-01-15',api_key=API_KEY)\n",
    "res=requests.get('https://www.quandl.com/api/v3/datasets/FSE/AFX_X/data.json',params=params)\n",
    "\n",
    "#print(res.text)\n",
    "res_json = res.json()\n",
    "print(type(res_json))\n",
    "print(res_json)"
   ]
  },
  {
   "cell_type": "code",
   "execution_count": 4,
   "metadata": {},
   "outputs": [],
   "source": [
    "# Inspect the JSON structure of the object you created, and take note of how nested it is,\n",
    "# as well as the overall structure\n",
    "\n",
    "#keys 1st layer: dataset_data\n",
    "#keys 2nd layer: limit, transform, column_index, column_names,start_date,end_date,frequency,data,collapse,order\n",
    "#list within 2nd layer value: column_names, data"
   ]
  },
  {
   "cell_type": "markdown",
   "metadata": {},
   "source": [
    "These are your tasks for this mini project:\n",
    "\n",
    "1. Collect data from the Franfurt Stock Exchange, for the ticker AFX_X, for the whole year 2017 (keep in mind that the date format is YYYY-MM-DD).\n",
    "2. Convert the returned JSON object into a Python dictionary.\n",
    "3. Calculate what the highest and lowest opening prices were for the stock in this period.\n",
    "4. What was the largest change in any one day (based on High and Low price)?\n",
    "5. What was the largest change between any two days (based on Closing Price)?\n",
    "6. What was the average daily trading volume during this year?\n",
    "7. (Optional) What was the median trading volume during this year. (Note: you may need to implement your own function for calculating the median.)"
   ]
  },
  {
   "cell_type": "markdown",
   "metadata": {},
   "source": [
    "Question 1."
   ]
  },
  {
   "cell_type": "code",
   "execution_count": 5,
   "metadata": {},
   "outputs": [],
   "source": [
    "params_new=dict(start_date='2017-01-01',end_date='2017-12-31',api_key=API_KEY)\n",
    "res_new=requests.get('https://www.quandl.com/api/v3/datasets/FSE/AFX_X/data.json',params=params_new)"
   ]
  },
  {
   "cell_type": "markdown",
   "metadata": {},
   "source": [
    "Question 2."
   ]
  },
  {
   "cell_type": "code",
   "execution_count": 6,
   "metadata": {},
   "outputs": [],
   "source": [
    "afx=res_new.json()\n",
    "#print(afx)"
   ]
  },
  {
   "cell_type": "markdown",
   "metadata": {},
   "source": [
    "Question 3."
   ]
  },
  {
   "cell_type": "code",
   "execution_count": 7,
   "metadata": {},
   "outputs": [
    {
     "name": "stdout",
     "output_type": "stream",
     "text": [
      "The highest opening price in 2017 is:  53.11\n",
      "The lowest opening price in 2017 is:  34.0\n"
     ]
    }
   ],
   "source": [
    "#print(type(afx))\n",
    "num_days=len(afx['dataset_data']['data'])\n",
    "#print(num_days)\n",
    "highest=0\n",
    "lowest=1000\n",
    "for i in range(num_days):\n",
    "    open_price=afx['dataset_data']['data'][i][1]\n",
    "    #print(open_price)\n",
    "    if open_price==None:\n",
    "        highest=highest\n",
    "        lowest=lowest\n",
    "    elif open_price>highest:\n",
    "        highest=open_price\n",
    "    elif open_price<lowest:\n",
    "        lowest=open_price\n",
    "print('The highest opening price in 2017 is: ',highest)\n",
    "print('The lowest opening price in 2017 is: ',lowest)"
   ]
  },
  {
   "cell_type": "markdown",
   "metadata": {},
   "source": [
    "Question 4."
   ]
  },
  {
   "cell_type": "code",
   "execution_count": 8,
   "metadata": {},
   "outputs": [
    {
     "name": "stdout",
     "output_type": "stream",
     "text": [
      "The largest change of price in one day is:  2.8100000000000023\n"
     ]
    }
   ],
   "source": [
    "largest_change_1d=0\n",
    "for i in range(num_days):\n",
    "    high_price=afx['dataset_data']['data'][i][2]\n",
    "    low_price=afx['dataset_data']['data'][i][3]\n",
    "    if high_price==None or low_price==None:\n",
    "        largest_change_1d=largest_change_1d\n",
    "    else: \n",
    "        diff=high_price-low_price\n",
    "        if diff>largest_change_1d:\n",
    "            largest_change_1d=diff\n",
    "print('The largest change of price in one day is: ',largest_change_1d)\n",
    "    "
   ]
  },
  {
   "cell_type": "markdown",
   "metadata": {},
   "source": [
    "Question 5."
   ]
  },
  {
   "cell_type": "code",
   "execution_count": 9,
   "metadata": {},
   "outputs": [
    {
     "name": "stdout",
     "output_type": "stream",
     "text": [
      "The largest change of price in two day is:  2.559999999999995\n"
     ]
    }
   ],
   "source": [
    "largest_change_2d=0\n",
    "for i in range(num_days-1):\n",
    "    high_price_1=afx['dataset_data']['data'][i][4]\n",
    "    high_price_2=afx['dataset_data']['data'][i+1][4]\n",
    "    if high_price_1==None or high_price_2==None:\n",
    "        largest_chagne_2d=largest_change_2d\n",
    "    else:\n",
    "        diff=abs(high_price_1-high_price_2)\n",
    "        if diff>largest_change_2d:\n",
    "            largest_change_2d=diff\n",
    "            \n",
    "print('The largest change of price in two day is: ', largest_change_2d)"
   ]
  },
  {
   "cell_type": "markdown",
   "metadata": {},
   "source": [
    "Question 6."
   ]
  },
  {
   "cell_type": "code",
   "execution_count": 10,
   "metadata": {},
   "outputs": [
    {
     "name": "stdout",
     "output_type": "stream",
     "text": [
      "The mean trading volumn of the year is:  89124.33725490196\n"
     ]
    }
   ],
   "source": [
    "volumn_list=[]\n",
    "for i in range(num_days):\n",
    "    volumn=afx['dataset_data']['data'][i][6]\n",
    "    volumn_list.append(volumn)\n",
    "mean_volumn=sum(volumn_list)/num_days\n",
    "print('The mean trading volumn of the year is: ',mean_volumn)"
   ]
  },
  {
   "cell_type": "markdown",
   "metadata": {},
   "source": [
    "Question 7."
   ]
  },
  {
   "cell_type": "code",
   "execution_count": 11,
   "metadata": {},
   "outputs": [],
   "source": [
    "def median(x):\n",
    "    sorted(x)\n",
    "    if len(x)%2==0:\n",
    "        median = (x[int(len(x)/2-1)]+x[int(len(x)/2)])/2\n",
    "    else:\n",
    "        median = x[int((len(x)-1)/2)]\n",
    "    return median"
   ]
  },
  {
   "cell_type": "code",
   "execution_count": 12,
   "metadata": {},
   "outputs": [
    {
     "name": "stdout",
     "output_type": "stream",
     "text": [
      "The median trading volumn of the year is:  134965.0\n"
     ]
    }
   ],
   "source": [
    "median_volumn=median(volumn_list)\n",
    "print('The median trading volumn of the year is: ',median_volumn)"
   ]
  },
  {
   "cell_type": "code",
   "execution_count": null,
   "metadata": {},
   "outputs": [],
   "source": []
  }
 ],
 "metadata": {
  "kernelspec": {
   "display_name": "Python 3",
   "language": "python",
   "name": "python3"
  },
  "language_info": {
   "codemirror_mode": {
    "name": "ipython",
    "version": 3
   },
   "file_extension": ".py",
   "mimetype": "text/x-python",
   "name": "python",
   "nbconvert_exporter": "python",
   "pygments_lexer": "ipython3",
   "version": "3.7.4"
  }
 },
 "nbformat": 4,
 "nbformat_minor": 2
}
